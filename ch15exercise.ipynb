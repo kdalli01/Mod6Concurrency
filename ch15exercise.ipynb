{
 "cells": [
  {
   "cell_type": "code",
   "execution_count": null,
   "id": "888ea3d0-9e70-4f28-b4e2-9bff9b5b9385",
   "metadata": {},
   "outputs": [],
   "source": [
    "#import multiprocessing and remaining modules needed\n",
    "import multiprocessing\n",
    "import random\n",
    "import time\n",
    "from datetime import datetime"
   ]
  },
  {
   "cell_type": "code",
   "execution_count": null,
   "id": "ca59b6be-b5a0-4030-a4ba-f9a7a053c187",
   "metadata": {},
   "outputs": [],
   "source": [
    "#define a function to print the current time. It will generate a random sleep time between 0 and 1. It will sleep\n",
    "#for that amount of time. Then get the time and format as a string. Then print the process and the time.\n",
    "def print_current_time():\n",
    "    sleep_time = random.random()\n",
    "    time.sleep(sleep_time)\n",
    "    current_time = datetime.now().strftime(\"%Y-%m-%d %H:%M:%S\")\n",
    "    print(\"Process\", multiprocessing.current_process().name, \"initiated at:\", current_time)"
   ]
  },
  {
   "cell_type": "code",
   "execution_count": null,
   "id": "3e293a88-0139-4232-b6fe-b6113494deb4",
   "metadata": {},
   "outputs": [],
   "source": [
    "#create a list to hold references/processes. Assign names to the processes. Append the list. \n",
    "#Then start the process(es) and the next for loop waits for processes to complete.\n",
    "if __name__ == '__main__':\n",
    "    processes = []\n",
    "    for i in range(3):\n",
    "        process = multiprocessing.Process(target=print_current_time, name=f\"Process-{i+1}\")\n",
    "        processes.append(process)\n",
    "        process.start()\n",
    "\n",
    "    for process in processes:\n",
    "        process.join()"
   ]
  },
  {
   "cell_type": "code",
   "execution_count": null,
   "id": "50460dbf-d8e5-423f-9431-75209aa2e8e2",
   "metadata": {},
   "outputs": [],
   "source": []
  },
  {
   "cell_type": "code",
   "execution_count": null,
   "id": "89e22b82-d201-4930-b551-585d4ba748e1",
   "metadata": {},
   "outputs": [],
   "source": []
  },
  {
   "cell_type": "code",
   "execution_count": null,
   "id": "62b0ac99-29b1-4b56-bd75-48676a6820c3",
   "metadata": {},
   "outputs": [],
   "source": []
  },
  {
   "cell_type": "code",
   "execution_count": null,
   "id": "cff67d61-e98f-4d31-8de1-6a69015c7194",
   "metadata": {},
   "outputs": [],
   "source": []
  }
 ],
 "metadata": {
  "kernelspec": {
   "display_name": "Python 3 (ipykernel)",
   "language": "python",
   "name": "python3"
  },
  "language_info": {
   "codemirror_mode": {
    "name": "ipython",
    "version": 3
   },
   "file_extension": ".py",
   "mimetype": "text/x-python",
   "name": "python",
   "nbconvert_exporter": "python",
   "pygments_lexer": "ipython3",
   "version": "3.11.7"
  }
 },
 "nbformat": 4,
 "nbformat_minor": 5
}
