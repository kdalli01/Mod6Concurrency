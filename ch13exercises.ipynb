{
 "cells": [
  {
   "cell_type": "code",
   "execution_count": 14,
   "id": "97bf4b92-bb3e-4f00-9a28-42ba293ae9c6",
   "metadata": {},
   "outputs": [],
   "source": [
    "#import date time module to handle dates and times\n",
    "from datetime import datetime"
   ]
  },
  {
   "cell_type": "code",
   "execution_count": 15,
   "id": "249d5888-5bc9-4eea-885f-5288de9185b5",
   "metadata": {},
   "outputs": [],
   "source": [
    "# Open/read date from today.txt file in same directory\n",
    "with open(\"today.txt\", \"r\") as file:\n",
    "    today_string = file.read().strip()"
   ]
  },
  {
   "cell_type": "code",
   "execution_count": 16,
   "id": "04c5304d-39d3-49a7-b123-318ad12cece2",
   "metadata": {},
   "outputs": [],
   "source": [
    "# Parse the date from today_string we defined above\n",
    "parsed_date = datetime.strptime(today_string, \"%Y-%m-%d\")"
   ]
  },
  {
   "cell_type": "code",
   "execution_count": 17,
   "id": "d8e16d18-1675-41d3-8154-385e3a51fd42",
   "metadata": {},
   "outputs": [
    {
     "name": "stdout",
     "output_type": "stream",
     "text": [
      "Today's date from the file: 2024-04-24\n",
      "Parsed date from file: 2024-04-24 00:00:00\n"
     ]
    }
   ],
   "source": [
    "#Print the contents of the file as a string showing the date\n",
    "print(\"Today's date from the file:\", today_string)\n",
    "print(\"Parsed date from file:\", parsed_date)"
   ]
  },
  {
   "cell_type": "code",
   "execution_count": null,
   "id": "766dc1e0-6501-41ce-a930-37a439c84791",
   "metadata": {},
   "outputs": [],
   "source": []
  },
  {
   "cell_type": "code",
   "execution_count": null,
   "id": "6843a5b1-4f9c-4fba-b885-84dc1cb6d6a1",
   "metadata": {},
   "outputs": [],
   "source": []
  },
  {
   "cell_type": "code",
   "execution_count": null,
   "id": "a3a8f5da-035f-489b-a572-7545a86f2019",
   "metadata": {},
   "outputs": [],
   "source": []
  }
 ],
 "metadata": {
  "kernelspec": {
   "display_name": "Python 3 (ipykernel)",
   "language": "python",
   "name": "python3"
  },
  "language_info": {
   "codemirror_mode": {
    "name": "ipython",
    "version": 3
   },
   "file_extension": ".py",
   "mimetype": "text/x-python",
   "name": "python",
   "nbconvert_exporter": "python",
   "pygments_lexer": "ipython3",
   "version": "3.11.7"
  }
 },
 "nbformat": 4,
 "nbformat_minor": 5
}
